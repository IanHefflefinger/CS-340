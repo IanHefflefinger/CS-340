{
 "cells": [
  {
   "cell_type": "markdown",
   "metadata": {},
   "source": [
    "Import Python project and unittest library:"
   ]
  },
  {
   "cell_type": "code",
   "execution_count": 5,
   "metadata": {},
   "outputs": [],
   "source": [
    "#import unittest\n",
    "#import animalShelterCRUD"
   ]
  },
  {
   "cell_type": "markdown",
   "metadata": {},
   "source": [
    "#Instantiate an animal shelter object using the AnimalShelter class:"
   ]
  },
  {
   "cell_type": "code",
   "execution_count": 7,
   "metadata": {},
   "outputs": [],
   "source": [
    "#my_shelter = animalShelterCRUD.AnimalShelter()"
   ]
  },
  {
   "cell_type": "markdown",
   "metadata": {},
   "source": [
    "Define class for test case:"
   ]
  },
  {
   "cell_type": "code",
   "execution_count": 4,
   "metadata": {},
   "outputs": [
    {
     "name": "stderr",
     "output_type": "stream",
     "text": [
      "./home/ian.hefflefin_snhu/CRUD/animalShelterCRUD.py:52: DeprecationWarning: count is deprecated. Use Collection.count_documents instead.\n",
      "  if self.database.animals.find(data).count() > 0:\n",
      "..../home/ian.hefflefin_snhu/CRUD/animalShelterCRUD.py:30: DeprecationWarning: count is deprecated. Use Collection.count_documents instead.\n",
      "  if my_cursor.count() > 0:\n",
      "......\n",
      "----------------------------------------------------------------------\n",
      "Ran 11 tests in 0.280s\n",
      "\n",
      "OK\n"
     ]
    }
   ],
   "source": [
    "import unittest\n",
    "import animalShelterCRUD\n",
    "\n",
    "class TestCRUDMethods(unittest.TestCase):\n",
    "    \n",
    "    #add setup here\n",
    "\n",
    "    \n",
    "    def test_write_success(self):\n",
    "        my_shelter = animalShelterCRUD.AnimalShelter(\"aacuser\", \"password\")\n",
    "        self.assertTrue(my_shelter.create({\"test\" : \"test\"}))\n",
    "        \n",
    "    def test_write_exception(self):\n",
    "        my_shelter = animalShelterCRUD.AnimalShelter(\"aacuser\", \"password\")\n",
    "        with self.assertRaises(TypeError):\n",
    "            my_shelter.create()\n",
    "            \n",
    "    def test_write_exception_wrong_data_type(self):\n",
    "        my_shelter = animalShelterCRUD.AnimalShelter(\"aacuser\", \"password\")\n",
    "        with self.assertRaises(Exception):\n",
    "            my_shelter.read('animal')\n",
    "\n",
    "    def test_read_exception_missing_args(self):\n",
    "        my_shelter = animalShelterCRUD.AnimalShelter(\"aacuser\", \"password\")\n",
    "        with self.assertRaises(TypeError):\n",
    "            my_shelter.read(\"breed\")\n",
    "            \n",
    "    def test_read_non_exist(self):\n",
    "        my_shelter = animalShelterCRUD.AnimalShelter(\"aacuser\", \"password\")\n",
    "        with self.assertRaises(Exception):\n",
    "            my_shelter.read('breed', 'Scooby Doo')\n",
    "            \n",
    "    def test_read_success(self):\n",
    "        my_shelter = animalShelterCRUD.AnimalShelter(\"aacuser\", \"password\")\n",
    "        my_shelter.create({\"readme\" : \"readme\"})\n",
    "        self.assertTrue(my_shelter.read({\"readme\" : \"readme\"}))\n",
    "            \n",
    "    def test_delete_success(self):\n",
    "        my_shelter = animalShelterCRUD.AnimalShelter(\"aacuser\", \"password\")\n",
    "        my_shelter.create({\"test\" : \"test\"})\n",
    "        self.assertTrue(my_shelter.delete({\"test\" : \"test\"}))\n",
    "        \n",
    "    def test_delete_fail(self):\n",
    "        my_shelter = animalShelterCRUD.AnimalShelter(\"aacuser\", \"password\")\n",
    "        with self.assertRaises(Exception):\n",
    "            my_shelter.delete({'totally nonexistant field' : 'Ths value does not exist'})\n",
    "            \n",
    "    def test_delete_empty_arg(self):\n",
    "        my_shelter = animalShelterCRUD.AnimalShelter(\"aacuser\", \"password\")\n",
    "        with self.assertRaises(Exception):\n",
    "            my_shelter.delete()\n",
    "            \n",
    "    def test_update_fail_empty(self):\n",
    "        my_shelter = animalShelterCRUD.AnimalShelter(\"aacuser\", \"password\")\n",
    "        with self.assertRaises(Exception):\n",
    "            my_shelter.update() \n",
    "            \n",
    "    def test_update_success(self):\n",
    "        my_shelter = animalShelterCRUD.AnimalShelter(\"aacuser\", \"password\")\n",
    "        my_shelter.create({\"updateme\" : \"updateme\"})\n",
    "        my_shelter.update({\"updateme\" : \"updateme\"}, {\"$set\": {\"updateme\" : \"updated\"}})\n",
    "        self.assertTrue(my_shelter.read({\"updateme\" : \"updated\"}))\n",
    "    \n",
    "    \n",
    "    #add teardown here\n",
    "    # delete all objects: {\"test\" : \"test\"} , {\"updateme\" : \"updateme\"} , \n",
    "    #{\"updateme\" : \"updated\"} , {\"readme\" : \"readme\"}\n",
    "            \n",
    "    \n",
    "        \n",
    "        \n",
    "if __name__ == '__main__':\n",
    "    unittest.main(argv=['first-arg-is-ignored'], exit=False)"
   ]
  },
  {
   "cell_type": "code",
   "execution_count": null,
   "metadata": {},
   "outputs": [],
   "source": []
  },
  {
   "cell_type": "code",
   "execution_count": null,
   "metadata": {},
   "outputs": [],
   "source": []
  }
 ],
 "metadata": {
  "kernelspec": {
   "display_name": "Python 3",
   "language": "python",
   "name": "python3"
  },
  "language_info": {
   "codemirror_mode": {
    "name": "ipython",
    "version": 3
   },
   "file_extension": ".py",
   "mimetype": "text/x-python",
   "name": "python",
   "nbconvert_exporter": "python",
   "pygments_lexer": "ipython3",
   "version": "3.6.9"
  }
 },
 "nbformat": 4,
 "nbformat_minor": 2
}
